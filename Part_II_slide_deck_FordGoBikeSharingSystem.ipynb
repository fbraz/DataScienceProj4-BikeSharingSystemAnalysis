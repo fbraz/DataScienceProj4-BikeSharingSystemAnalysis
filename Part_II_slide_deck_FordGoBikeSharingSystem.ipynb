{
 "cells": [
  {
   "cell_type": "markdown",
   "metadata": {
    "slideshow": {
     "slide_type": "slide"
    }
   },
   "source": [
    "# Part II - FordGo Bike sharing system user habits\n",
    "## by Fatima Brazao"
   ]
  },
  {
   "cell_type": "markdown",
   "metadata": {
    "slideshow": {
     "slide_type": "slide"
    }
   },
   "source": [
    "## Investigation Overview\n",
    "\n",
    "> this presentation aims at providing insight into the users habits of Ford GO bike sharing system in the month February 2019.\n",
    "\n",
    ">From the dataset exploration I observe that:\n",
    "\n",
    ">This bike sharing system is used for short rides \n",
    "\n",
    ">Most bikes rides are done by subscribers 91%\n",
    "\n",
    ">Males did 75% of those rides while females did 25% and other gender 2%\n",
    "\n",
    "> Most trips are performed by users in the age range of 30s to 50s(1980-2000)\n",
    "\n",
    ">Throught the day most rides happen in the morning and afternoon some in the evening and little at night\n",
    "\n",
    "> Most popular stations have ids between 50 and 100\n",
    "\n",
    "> Most popular days in February 2019 were workdays namely: 5,6,7, 11,12,19,20,21,22,28! Weekends are less popular!\n",
    "\n",
    "> Somehow users tend to take more frequently bikes with a higher id!! Newer??\n",
    "\n",
    ">Hipothesis: The bike sharing system is used mostly for transport to and from work for short distances!!\n",
    "\n",
    "\n",
    "## Dataset Overview\n",
    "\n",
    "> The dataset from Ford Go Bike sharing system has attributes from  183 412 individual rides. The attributes are the duration(in seconds)(NUMERIC variable), the start and end date and time, as well as start and end location by station id and name(ORDINAL variable), and by longitude and latitude (removed for this study). Additionally data about the user_type(costumer or subscriber), member birth year and gender(CATEGORICAL variables).\n"
   ]
  },
  {
   "cell_type": "code",
   "execution_count": null,
   "metadata": {
    "slideshow": {
     "slide_type": "skip"
    }
   },
   "outputs": [],
   "source": [
    "# import all packages and set plots to be embedded inline\n",
    "import numpy as np\n",
    "import pandas as pd\n",
    "import matplotlib.pyplot as plt\n",
    "import seaborn as sb\n",
    "import calendar\n",
    "import datetime\n",
    "\n",
    "%matplotlib inline\n",
    "\n",
    "# suppress warnings from final output\n",
    "import warnings\n",
    "warnings.simplefilter(\"ignore\")"
   ]
  },
  {
   "cell_type": "code",
   "execution_count": null,
   "metadata": {
    "slideshow": {
     "slide_type": "skip"
    }
   },
   "outputs": [],
   "source": [
    "# load in the dataset into a pandas dataframe\n",
    "df=pd.read_csv(\"final-fordgobike-tripdata.csv\")\n"
   ]
  },
  {
   "cell_type": "markdown",
   "metadata": {
    "slideshow": {
     "slide_type": "slide"
    }
   },
   "source": [
    "## Hypothesis: \n",
    "### The bike sharing system is used mostly by subscribers for short duration transport  \n",
    "\n",
    "#### This hypothesis is supported by data. Following we will present a set of visualizations that show who are the users of the bike system and their habits in February 2019.\n",
    "\n",
    ">>Most users are subscribers and their gender\n",
    "\n",
    ">>February usage highlighting the workdays\n",
    "\n",
    ">>Show the usage across the day showing that morning and afternoon have the highest usage\n",
    "\n",
    ">>That the duration tends to be short\n"
   ]
  },
  {
   "cell_type": "markdown",
   "metadata": {
    "slideshow": {
     "slide_type": "slide"
    }
   },
   "source": [
    "##  Who are the users? \n",
    "\n",
    ">Which user type?\n",
    "\n",
    ">Distribution of gender?\n",
    "\n",
    ">Distribution of gender by type of user?\n",
    "\n",
    ">Age range of the frequent users?\n"
   ]
  },
  {
   "cell_type": "code",
   "execution_count": null,
   "metadata": {
    "slideshow": {
     "slide_type": "subslide"
    }
   },
   "outputs": [],
   "source": [
    "#let's see the user_types with a donut plot\n",
    "#df['user_type'].value_counts()\n",
    "\n",
    "sorted_counts=df['user_type'].value_counts()\n",
    "sorted_counts\n",
    "fig=plt.figure(figsize=[7,7])\n",
    "fig.patch.set_facecolor('white')\n",
    "fontsize=16\n",
    "plt.title(\"USER TYPE RELATIVE FREQUENCY\", fontdict={'fontsize': fontsize})\n",
    "plt.pie(sorted_counts, labels=sorted_counts.index, startangle=90, counterclock=False, colors=['saddlebrown','orangered'],autopct='%1.0f%%', wedgeprops={'width':0.7})\n",
    "plt.legend(bbox_to_anchor=(1, 1), loc='upper left', borderaxespad=2,title=\"User type frequency\")\n",
    "\n"
   ]
  },
  {
   "cell_type": "code",
   "execution_count": null,
   "metadata": {
    "slideshow": {
     "slide_type": "subslide"
    }
   },
   "outputs": [],
   "source": [
    "# Use a pie chart to visualize the relative frequency for the categorical variable member_gender\n",
    "sorted_counts=df['member_gender'].value_counts()\n",
    "sorted_counts\n",
    "fig=plt.figure(figsize=[7,7])\n",
    "fig.patch.set_facecolor('white')\n",
    "plt.title(\"USER GENDER RELATIVE FREQUENCY\",fontdict={'fontsize': fontsize})\n",
    "plt.pie(sorted_counts, labels=sorted_counts.index, startangle=90, counterclock=False, colors=['powderblue','beige','gold'],autopct='%1.0f%%')\n",
    "plt.legend(bbox_to_anchor=(1, 1), loc='upper left', borderaxespad=2,title=\"Gender frequency\")\n",
    "\n"
   ]
  },
  {
   "cell_type": "code",
   "execution_count": null,
   "metadata": {
    "slideshow": {
     "slide_type": "subslide"
    }
   },
   "outputs": [],
   "source": [
    "#Proportions between user_type and gender\n",
    "\n",
    "CrosstabResult=pd.crosstab(index=df['user_type'],columns=df['member_gender'])\n",
    "print(CrosstabResult)\n",
    "\n",
    "# Grouped bar chart between user_type and member_gender\n",
    "\n",
    "CrosstabResult.plot.bar(figsize=[10,8])\n",
    " \n",
    "plt.title('PORPORTIONS BETWEEN USER TYPE AND GENDER',fontdict={'fontsize': fontsize})\n",
    "plt.ylabel('Count')"
   ]
  },
  {
   "cell_type": "code",
   "execution_count": null,
   "metadata": {
    "slideshow": {
     "slide_type": "subslide"
    }
   },
   "outputs": [],
   "source": [
    "#Let's see now how what the age range by the birth year frequency \n",
    "base_color=sb.color_palette()[0]\n",
    "fig=plt.figure(figsize=[12,10])\n",
    "fig.patch.set_facecolor('white')\n",
    "sb.countplot(data=df, x='member_birth_year', color=base_color).set(title=\"Frequency of member birth year in the rides sample\")\n",
    "plt.title(\"AGE RANGE BY USER BIRTH YEAR DISTRIBUTION \",fontdict={'fontsize': fontsize} )\n",
    "plt.xticks(rotation=90)\n"
   ]
  },
  {
   "cell_type": "markdown",
   "metadata": {
    "slideshow": {
     "slide_type": "slide"
    }
   },
   "source": [
    "##  What are the users habits?\n",
    "\n",
    ">What is the usual duration of the bike rides?\n",
    "\n",
    ">At what part of the day?\n",
    "\n",
    ">What's the weekly pattern of usage?"
   ]
  },
  {
   "cell_type": "markdown",
   "metadata": {
    "collapsed": true,
    "slideshow": {
     "slide_type": "slide"
    }
   },
   "source": [
    "## Bike rides duration\n",
    "\n",
    "> The trend is beteween  8 and 16 minutes"
   ]
  },
  {
   "cell_type": "code",
   "execution_count": null,
   "metadata": {
    "slideshow": {
     "slide_type": "subslide"
    }
   },
   "outputs": [],
   "source": [
    "#what is the bike ride duration data distribution?\n",
    "\n",
    "# in seconds\n",
    "base_color=sb.color_palette()[0]\n",
    "fig=plt.figure(figsize=[10,8])\n",
    "fig.patch.set_facecolor('white')\n",
    "plt.xscale('log')\n",
    "plt.hist(data=df, x='duration_sec', bins=9000, color=base_color)\n",
    "plt.legend()\n",
    "plt.ylabel('Counts ')\n",
    "plt.xlabel('Duration (sec)')\n",
    "plt.title('DISTRIBUTION OF THE DURATION OF BIKE RIDES IN SECONDS',fontdict={'fontsize': fontsize}) \n",
    "\n"
   ]
  },
  {
   "cell_type": "code",
   "execution_count": null,
   "metadata": {
    "slideshow": {
     "slide_type": "subslide"
    }
   },
   "outputs": [],
   "source": [
    "\n",
    "df['start_time'] = df['start_time'].astype('datetime64[ns]')\n",
    "\n",
    "def get_part_of_the_day(Datetime):\n",
    "    a = Datetime\n",
    "    h = a.hour\n",
    "    return (\n",
    "        \"morning\"\n",
    "        if 5 <= h <= 11\n",
    "        else \"afternoon\"\n",
    "        if 12 <= h <= 17\n",
    "        else \"evening\"\n",
    "        if 18 <= h <= 22\n",
    "        else \"night\"\n",
    "    )    \n",
    "df['day_part']=df['start_time'].apply(get_part_of_the_day)\n",
    "df['day_part'].value_counts()\n",
    "plt.figure(figsize=[10,8])\n",
    "plt.hist(data=df, x='day_part', color=base_color)\n",
    "plt.title('COUNTS OF BIKE RIDES AT DIFFERENT PARTS OF THE DAY',fontdict={'fontsize': fontsize})\n",
    "plt.xlabel('Part of the day')\n",
    "plt.ylabel('Count')\n",
    "plt.legend(bbox_to_anchor=(1, 1), loc='upper left', borderaxespad=2,title=\"Bike rides trough the day\")"
   ]
  },
  {
   "cell_type": "code",
   "execution_count": null,
   "metadata": {
    "slideshow": {
     "slide_type": "subslide"
    }
   },
   "outputs": [],
   "source": [
    "#which days were more popular in February 2019 our dataset time period?\n",
    "workdays=[1,4,5,6,7,8,11,12,13,14,15,18,19,20,21,22,25,26,27,28]\n",
    "weekends=[2,3,9,10,16,17,23,24]\n",
    "\n",
    "def get_weekday_type(int):\n",
    "    d=int\n",
    "    daytype=''\n",
    "    if d in workdays:\n",
    "       daytype='workday'\n",
    "    elif d in weekends: \n",
    "       daytype='weekend'\n",
    "    return daytype\n",
    "        \n",
    "df['weekday_type']=df['day'].apply(get_weekday_type)\n",
    "\n",
    "plt.figure(figsize=[10,8])\n",
    "\n",
    "sb.countplot(data=df, x='day', hue='weekday_type')\n",
    "plt.title('FEBRUARY 2019 DAILY BIKE RIDES',fontdict={'fontsize': fontsize})"
   ]
  },
  {
   "cell_type": "code",
   "execution_count": null,
   "metadata": {
    "slideshow": {
     "slide_type": "skip"
    }
   },
   "outputs": [],
   "source": [
    "# Use this command if you are running this file in local\n",
    "!jupyter nbconvert Part_II_slide_deck_FordGoBikeSharingSystem.ipynb --to slides --post serve --no-input --no-prompt"
   ]
  },
  {
   "cell_type": "markdown",
   "metadata": {},
   "source": [
    "### Submission\n",
    "If you are using classroom workspace, you can choose from the following two ways of submission:\n",
    "\n",
    "1. **Submit from the workspace**. Make sure you have removed the example project from the /home/workspace directory. You must submit the following files:\n",
    "   - Part_I_notebook.ipynb\n",
    "   - Part_I_notebook.html or pdf\n",
    "   - Part_II_notebook.ipynb\n",
    "   - Part_I_slides.html\n",
    "   - README.md\n",
    "   - dataset (optional)\n",
    "\n",
    "\n",
    "2. **Submit a zip file on the last page of this project lesson**. In this case, open the Jupyter terminal and run the command below to generate a ZIP file. \n",
    "```bash\n",
    "zip -r my_project.zip .\n",
    "```\n",
    "The command abobve will ZIP every file present in your /home/workspace directory. Next, you can download the zip to your local, and follow the instructions on the last page of this project lesson.\n"
   ]
  },
  {
   "cell_type": "code",
   "execution_count": null,
   "metadata": {},
   "outputs": [],
   "source": [
    "zip -r my_project.zip"
   ]
  }
 ],
 "metadata": {
  "celltoolbar": "Slideshow",
  "kernelspec": {
   "display_name": "Python 3",
   "language": "python",
   "name": "python3"
  },
  "language_info": {
   "codemirror_mode": {
    "name": "ipython",
    "version": 3
   },
   "file_extension": ".py",
   "mimetype": "text/x-python",
   "name": "python",
   "nbconvert_exporter": "python",
   "pygments_lexer": "ipython3",
   "version": "3.6.3"
  }
 },
 "nbformat": 4,
 "nbformat_minor": 2
}
